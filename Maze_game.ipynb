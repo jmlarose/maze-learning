{
 "cells": [
  {
   "cell_type": "code",
   "execution_count": 3,
   "metadata": {
    "collapsed": false
   },
   "outputs": [],
   "source": [
    "class Player:\n",
    "    x = 10\n",
    "    y = 10\n",
    "    speed = 1\n",
    " \n",
    "    def moveRight(self):\n",
    "        self.x = self.x + self.speed\n",
    " \n",
    "    def moveLeft(self):\n",
    "        self.x = self.x - self.speed\n",
    " \n",
    "    def moveUp(self):\n",
    "        self.y = self.y - self.speed\n",
    " \n",
    "    def moveDown(self):\n",
    "        self.y = self.y + self.speed\n",
    " \n"
   ]
  },
  {
   "cell_type": "code",
   "execution_count": 137,
   "metadata": {
    "collapsed": false
   },
   "outputs": [],
   "source": [
    "class Maze:\n",
    "    def __init__(self):\n",
    "       self.score=1000\n",
    "       self.M = 12\n",
    "       self.N = 10\n",
    "       self.playerX=4\n",
    "       self.playerY=8\n",
    "       self.maze = [ [9,9,9,9,9,9,9,9,9,9,9,9],\n",
    "                     [9,1,1,1,1,1,1,1,1,1,1,9],\n",
    "                     [9,3,0,0,0,0,1,0,0,0,1,9],\n",
    "                     [9,1,0,0,1,0,0,0,1,0,1,9],\n",
    "                     [9,1,0,1,1,1,1,1,1,0,1,9],\n",
    "                     [9,1,0,1,0,0,0,0,0,0,1,9],\n",
    "                     [9,1,0,1,0,1,1,1,1,0,1,9],\n",
    "                     [9,1,0,1,0,1,0,0,0,0,1,9],\n",
    "                     [9,1,1,1,0,1,1,1,1,1,1,9],\n",
    "                     [9,9,9,9,9,9,9,9,9,9,9,9]]\n",
    "        \n",
    "    def print_maze(self):\n",
    "        print(self.score)\n",
    "        maze=self.maze\n",
    "        maze[self.playerY][self.playerX]='P'\n",
    "        for i in range(self.N):\n",
    "            for j in range(self.M):\n",
    "                output=maze[i][j]\n",
    "                print(output,end=\" \")\n",
    "            print(\" \")\n",
    "    def move(self,direction):\n",
    "        maze=self.maze\n",
    "        self.score-=1\n",
    "        if direction=='U':\n",
    "            if maze[self.playerY-1][self.playerX] in [1,9]:\n",
    "                print(maze[self.playerX][self.playerY-1])\n",
    "                self.failure()\n",
    "            elif maze[self.playerY-1][self.playerX]==3:\n",
    "                self.success()\n",
    "            else:\n",
    "                self.playerY-=1\n",
    "        elif direction=='D':\n",
    "            if maze[self.playerY+1][self.playerX] in [1,9]:\n",
    "                self.failure()\n",
    "            elif maze[self.playerY+1][self.playerX]==3:\n",
    "                self.success()\n",
    "            else:\n",
    "                self.playerY+=1\n",
    "        elif direction=='L':\n",
    "            if maze[self.playerY][self.playerX-1] in [1,9]:\n",
    "                self.failure()\n",
    "            elif maze[self.playerY][self.playerX-1]==3:\n",
    "                self.success()\n",
    "            else:\n",
    "                self.playerX-=1        \n",
    "        elif direction=='R':\n",
    "            if maze[self.playerY][self.playerX+1] in [1,9]:\n",
    "                self.failure()\n",
    "            elif maze[self.playerY][self.playerX+1]==3:\n",
    "                self.success()\n",
    "            else:\n",
    "                self.playerX+=1    \n",
    "        else:\n",
    "            print(\"Invalid Direction\")\n",
    "        self.print_maze()\n",
    "    def failure(self):\n",
    "        print(\"Nope!\")\n",
    "        self.score-=10\n",
    "    def success(self):\n",
    "        print(\"Winner!\")\n",
    "        \n",
    "        "
   ]
  },
  {
   "cell_type": "code",
   "execution_count": 138,
   "metadata": {
    "collapsed": false
   },
   "outputs": [
    {
     "name": "stdout",
     "output_type": "stream",
     "text": [
      "1000\n",
      "9 9 9 9 9 9 9 9 9 9 9 9  \n",
      "9 1 1 1 1 1 1 1 1 1 1 9  \n",
      "9 3 0 0 0 0 1 0 0 0 1 9  \n",
      "9 1 0 0 1 0 0 0 1 0 1 9  \n",
      "9 1 0 1 1 1 1 1 1 0 1 9  \n",
      "9 1 0 1 0 0 0 0 0 0 1 9  \n",
      "9 1 0 1 0 1 1 1 1 0 1 9  \n",
      "9 1 0 1 0 1 0 0 0 0 1 9  \n",
      "9 1 1 1 P 1 1 1 1 1 1 9  \n",
      "9 9 9 9 9 9 9 9 9 9 9 9  \n"
     ]
    }
   ],
   "source": [
    "z=Maze()\n",
    "z.print_maze()"
   ]
  },
  {
   "cell_type": "code",
   "execution_count": 142,
   "metadata": {
    "collapsed": false
   },
   "outputs": [
    {
     "name": "stdout",
     "output_type": "stream",
     "text": [
      "986\n",
      "9 9 9 9 9 9 9 9 9 9 9 9  \n",
      "9 1 1 1 1 1 1 1 1 1 1 9  \n",
      "9 3 0 0 0 0 1 0 0 0 1 9  \n",
      "9 1 0 0 1 0 0 0 1 0 1 9  \n",
      "9 1 0 1 1 1 1 1 1 0 1 9  \n",
      "9 1 0 1 P 0 0 0 0 0 1 9  \n",
      "9 1 0 1 P 1 1 1 1 0 1 9  \n",
      "9 1 0 1 P 1 0 0 0 0 1 9  \n",
      "9 1 1 1 P 1 1 1 1 1 1 9  \n",
      "9 9 9 9 9 9 9 9 9 9 9 9  \n"
     ]
    }
   ],
   "source": [
    "z.move('U')"
   ]
  },
  {
   "cell_type": "code",
   "execution_count": null,
   "metadata": {
    "collapsed": true
   },
   "outputs": [],
   "source": []
  },
  {
   "cell_type": "code",
   "execution_count": null,
   "metadata": {
    "collapsed": true
   },
   "outputs": [],
   "source": []
  }
 ],
 "metadata": {
  "kernelspec": {
   "display_name": "Python 3",
   "language": "python",
   "name": "python3"
  },
  "language_info": {
   "codemirror_mode": {
    "name": "ipython",
    "version": 3
   },
   "file_extension": ".py",
   "mimetype": "text/x-python",
   "name": "python",
   "nbconvert_exporter": "python",
   "pygments_lexer": "ipython3",
   "version": "3.6.0"
  }
 },
 "nbformat": 4,
 "nbformat_minor": 2
}
